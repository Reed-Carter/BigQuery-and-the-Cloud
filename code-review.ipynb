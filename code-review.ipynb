{
 "cells": [
  {
   "cell_type": "code",
   "execution_count": 45,
   "metadata": {},
   "outputs": [
    {
     "name": "stdout",
     "output_type": "stream",
     "text": [
      "Successfully created a BiqQuery client\n",
      "Project: deb-01-372116 \n",
      "\n",
      "Listing datasets in deb-01-372116:\n",
      "full_name: `deb-01-372116:airline_test`\n",
      "full_name: `deb-01-372116:fit_bit`\n",
      "full_name: `deb-01-372116:mls_salaries`\n",
      "full_name: `deb-01-372116:my_vinyls`\n",
      "full_name: `deb-01-372116:plants`\n",
      "full_name: `deb-01-372116:sf_bikeshare`\n",
      "\n",
      "\n",
      "Tables contained in 'deb-01-372116.plants':\n",
      "deb-01-372116.plants.flower_shop\n"
     ]
    }
   ],
   "source": [
    "import os\n",
    "from google.oauth2 import service_account\n",
    "from google.cloud import bigquery\n",
    "\n",
    "# load service account file\n",
    "cred_file = os.path.expanduser(\"~/.creds/dsa-deb-sa.json\")      \n",
    "creds = service_account.Credentials.from_service_account_file(cred_file)\n",
    "\n",
    "# create a connection\n",
    "project_id = 'deb-01-372116'\n",
    "client = bigquery.Client(credentials=creds, project=project_id)\n",
    "\n",
    "print(\"Successfully created a BiqQuery client\")\n",
    "print(f\"Project: {client.project} \\n\")\n",
    "\n",
    "#lists the data sets in project: 'deb-01-372116', 'plants' is infact listed!\n",
    "print(\"Listing datasets in deb-01-372116:\")\n",
    "for dataset in client.list_datasets():\n",
    "    print(f\"full_name: `{dataset.full_dataset_id}`\")\n",
    "print(f\"\\n\")\n",
    "\n",
    "#lists the tables in the plants dataset\n",
    "dataset_id = 'deb-01-372116.plants'\n",
    "tables = client.list_tables(dataset_id)\n",
    "print(\"Tables contained in '{}':\".format(dataset_id))\n",
    "for table in tables:\n",
    "    print(\"{}.{}.{}\".format(table.project, table.dataset_id, table.table_id))"
   ]
  }
 ],
 "metadata": {
  "kernelspec": {
   "display_name": "venv-codereview",
   "language": "python",
   "name": "python3"
  },
  "language_info": {
   "codemirror_mode": {
    "name": "ipython",
    "version": 3
   },
   "file_extension": ".py",
   "mimetype": "text/x-python",
   "name": "python",
   "nbconvert_exporter": "python",
   "pygments_lexer": "ipython3",
   "version": "3.7.15"
  },
  "orig_nbformat": 4,
  "vscode": {
   "interpreter": {
    "hash": "ea9a76a74406493fb9a0f33fab877051c8cde1635d53d7d4be70304792638a40"
   }
  }
 },
 "nbformat": 4,
 "nbformat_minor": 2
}
