{
 "cells": [
  {
   "cell_type": "code",
   "execution_count": null,
   "metadata": {},
   "outputs": [],
   "source": [
    "import os\n",
    "from google.oauth2 import service_account\n",
    "from google.cloud import bigquery\n",
    "\n",
    "# load service account file\n",
    "# `os.path.expanduser()` converts home dir (~/) to an absolute path\n",
    "#   change the file path to match your cred file location\n",
    "cred_file = os.path.expanduser(\"~/.creds/dsa-deb-sa.json\")      \n",
    "creds = service_account.Credentials.from_service_account_file(cred_file)\n",
    "\n",
    "# create a connection\n",
    "# specify the credentials file and the project\n",
    "project_id = 'deb-01-372116'\n",
    "client = bigquery.Client(credentials=creds, project=project_id)\n",
    "\n",
    "print(\"Successfully created a BiqQuery client\")\n",
    "print(f\"Project: {client.project}\")\n",
    "\n",
    "#lists the data sets in project: 'deb-01-372116', 'plants' is infact listed!\n",
    "print(\"Listing datasets:\")\n",
    "\n",
    "for dataset in client.list_datasets():\n",
    "    dataset_id = dataset.dataset_id\n",
    "    print(f\"dataset id: `{dataset_id}`, full_name: `{dataset.full_dataset_id}`, labels (tags): {dataset.labels}\")"
   ]
  }
 ],
 "metadata": {
  "kernelspec": {
   "display_name": "venv-codereview",
   "language": "python",
   "name": "python3"
  },
  "language_info": {
   "codemirror_mode": {
    "name": "ipython",
    "version": 3
   },
   "file_extension": ".py",
   "mimetype": "text/x-python",
   "name": "python",
   "nbconvert_exporter": "python",
   "pygments_lexer": "ipython3",
   "version": "3.7.15"
  },
  "orig_nbformat": 4,
  "vscode": {
   "interpreter": {
    "hash": "ea9a76a74406493fb9a0f33fab877051c8cde1635d53d7d4be70304792638a40"
   }
  }
 },
 "nbformat": 4,
 "nbformat_minor": 2
}
