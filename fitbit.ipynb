{
 "cells": [
  {
   "cell_type": "code",
   "execution_count": 1,
   "metadata": {},
   "outputs": [
    {
     "name": "stderr",
     "output_type": "stream",
     "text": [
      "/home/reedandrew18/BigQuery-and-the-Cloud/venv-codereview/lib/python3.7/site-packages/ipykernel_launcher.py:3: DeprecationWarning: the imp module is deprecated in favour of importlib; see the module's documentation for alternative uses\n",
      "  This is separate from the ipykernel package so we can avoid doing imports until\n"
     ]
    },
    {
     "name": "stdout",
     "output_type": "stream",
     "text": [
      "Loaded 22099 rows and 4 columns to deb-01-372116.fit_bit.hourly_calories\n"
     ]
    }
   ],
   "source": [
    "#----------------------fitbit data----------\n",
    "import pandas as pd\n",
    "from imp import source_from_cache\n",
    "from google.cloud import bigquery\n",
    "\n",
    "#Read files\n",
    "hourly_steps_file = \"./data/hourlySteps_merged.csv\"\n",
    "hourly_steps = pd.read_csv(hourly_steps_file, header=0)\n",
    "\n",
    "hourly_calories_file = './data/hourlyCalories_merged.csv'\n",
    "hourly_calories = pd.read_csv(hourly_calories_file, header=0)\n",
    "\n",
    "#merge data sets\n",
    "steps_cal_df = pd.merge(hourly_steps, hourly_calories, on=['ActivityHour', 'Id'], how='left')\n",
    "steps_cal_df['ActivityHour']=pd.to_datetime(steps_cal_df[\"ActivityHour\"], format=\"%m/%d/%Y %I:%M:%S %p\", utc=True)\n",
    "\n",
    "#convert acivity hour to readable datetime object by BigQuery and drop duplicates\n",
    "steps_cal_df['ActivityHour']=pd.to_datetime(steps_cal_df[\"ActivityHour\"], format=\"%m/%d/%Y %I:%M:%S %p\", utc=True)\n",
    "steps_cal_df.drop_duplicates(ignore_index=True)\n",
    "\n",
    "#write to csv file\n",
    "steps_cal_df.to_csv(\"./data/hourly_calories\", index=False)\n",
    "\n",
    "# Construct a BigQuery client object to upload csv to google cloud console\n",
    "client = bigquery.Client()\n",
    "job_config = bigquery.LoadJobConfig(\n",
    "    source_format=\"CSV\",\n",
    "    autodetect=True,\n",
    "    create_disposition=\"CREATE_IF_NEEDED\",\n",
    "    write_disposition=\"WRITE_TRUNCATE\",\n",
    ")\n",
    "table_id = \"deb-01-372116.fit_bit.hourly_calories\"\n",
    "file_name = \"./data/hourly_calories\"\n",
    "with open(file_name, \"rb\") as fp:\n",
    "    job = client.load_table_from_file(fp, table_id, job_config=job_config)\n",
    "\n",
    "job.result()\n",
    "\n",
    "table = client.get_table(table_id)\n",
    "print(\n",
    "    \"Loaded {} rows and {} columns to {}\".format(\n",
    "        table.num_rows, len(table.schema), table_id\n",
    "    )\n",
    ")"
   ]
  }
 ],
 "metadata": {
  "kernelspec": {
   "display_name": "venv-codereview",
   "language": "python",
   "name": "python3"
  },
  "language_info": {
   "codemirror_mode": {
    "name": "ipython",
    "version": 3
   },
   "file_extension": ".py",
   "mimetype": "text/x-python",
   "name": "python",
   "nbconvert_exporter": "python",
   "pygments_lexer": "ipython3",
   "version": "3.7.15"
  },
  "orig_nbformat": 4,
  "vscode": {
   "interpreter": {
    "hash": "ea9a76a74406493fb9a0f33fab877051c8cde1635d53d7d4be70304792638a40"
   }
  }
 },
 "nbformat": 4,
 "nbformat_minor": 2
}
